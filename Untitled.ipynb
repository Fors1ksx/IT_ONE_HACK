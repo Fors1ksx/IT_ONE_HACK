{
 "cells": [
  {
   "cell_type": "code",
   "execution_count": 8,
   "id": "7d9e5121-ea50-43bc-8c9e-d56ce72b22a2",
   "metadata": {},
   "outputs": [
    {
     "name": "stdout",
     "output_type": "stream",
     "text": [
      "Requirement already satisfied: tqdm in /usr/local/lib/python3.11/dist-packages (4.67.1)\n",
      "\u001b[33mWARNING: Running pip as the 'root' user can result in broken permissions and conflicting behaviour with the system package manager, possibly rendering your system unusable.It is recommended to use a virtual environment instead: https://pip.pypa.io/warnings/venv. Use the --root-user-action option if you know what you are doing and want to suppress this warning.\u001b[0m\u001b[33m\n",
      "\u001b[0m\n",
      "\u001b[1m[\u001b[0m\u001b[34;49mnotice\u001b[0m\u001b[1;39;49m]\u001b[0m\u001b[39;49m A new release of pip is available: \u001b[0m\u001b[31;49m24.2\u001b[0m\u001b[39;49m -> \u001b[0m\u001b[32;49m25.0.1\u001b[0m\n",
      "\u001b[1m[\u001b[0m\u001b[34;49mnotice\u001b[0m\u001b[1;39;49m]\u001b[0m\u001b[39;49m To update, run: \u001b[0m\u001b[32;49mpython -m pip install --upgrade pip\u001b[0m\n"
     ]
    }
   ],
   "source": [
    "!pip install tqdm"
   ]
  },
  {
   "cell_type": "code",
   "execution_count": 1,
   "id": "5c3c4515-819b-44e4-ac7f-1d889138cb01",
   "metadata": {},
   "outputs": [
    {
     "ename": "ModuleNotFoundError",
     "evalue": "No module named 'transformers'",
     "output_type": "error",
     "traceback": [
      "\u001b[0;31m---------------------------------------------------------------------------\u001b[0m",
      "\u001b[0;31mModuleNotFoundError\u001b[0m                       Traceback (most recent call last)",
      "Cell \u001b[0;32mIn[1], line 3\u001b[0m\n\u001b[1;32m      1\u001b[0m \u001b[38;5;28;01mimport\u001b[39;00m \u001b[38;5;21;01mos\u001b[39;00m\n\u001b[1;32m      2\u001b[0m \u001b[38;5;28;01mimport\u001b[39;00m \u001b[38;5;21;01mtorch\u001b[39;00m\n\u001b[0;32m----> 3\u001b[0m \u001b[38;5;28;01mfrom\u001b[39;00m \u001b[38;5;21;01mtransformers\u001b[39;00m \u001b[38;5;28;01mimport\u001b[39;00m AutoModelForCausalLM, AutoTokenizer, BitsAndBytesConfig\n\u001b[1;32m      4\u001b[0m \u001b[38;5;28;01mfrom\u001b[39;00m \u001b[38;5;21;01mhuggingface_hub\u001b[39;00m \u001b[38;5;28;01mimport\u001b[39;00m snapshot_download\n\u001b[1;32m      5\u001b[0m \u001b[38;5;28;01mfrom\u001b[39;00m \u001b[38;5;21;01mtqdm\u001b[39;00m\u001b[38;5;21;01m.\u001b[39;00m\u001b[38;5;21;01mauto\u001b[39;00m \u001b[38;5;28;01mimport\u001b[39;00m tqdm\n",
      "\u001b[0;31mModuleNotFoundError\u001b[0m: No module named 'transformers'"
     ]
    }
   ],
   "source": [
    "import os\n",
    "import torch\n",
    "from transformers import AutoModelForCausalLM, AutoTokenizer, BitsAndBytesConfig\n",
    "from huggingface_hub import snapshot_download\n",
    "from tqdm.auto import tqdm"
   ]
  },
  {
   "cell_type": "code",
   "execution_count": 10,
   "id": "cef492b9-0e0a-428e-8538-ffa74686aea4",
   "metadata": {},
   "outputs": [],
   "source": [
    "MODEL_NAME = \"deepseek-ai/deepseek-coder-33b-instruct\"\n",
    "MODEL_CACHE = \"/workspace/model_cache\"  # Путь для кеширования модели\n",
    "FORCE_DOWNLOAD = False  # Принудительное скачивание (если True)"
   ]
  },
  {
   "cell_type": "code",
   "execution_count": 11,
   "id": "7f85388d-29e0-43d9-be81-50de45c84063",
   "metadata": {},
   "outputs": [],
   "source": [
    "def setup_model_cache():\n",
    "    \"\"\"Создает папку для кеширования модели\"\"\"\n",
    "    os.makedirs(MODEL_CACHE, exist_ok=True)\n",
    "    return MODEL_CACHE"
   ]
  },
  {
   "cell_type": "code",
   "execution_count": 12,
   "id": "5bd78acb-84c3-4bbd-b347-52ea8eb5beb5",
   "metadata": {},
   "outputs": [],
   "source": [
    "def check_model_exists():\n",
    "    \"\"\"Проверяет наличие полной модели в кеше\"\"\"\n",
    "    required_files = {\n",
    "        \"config.json\",\n",
    "        \"model.safetensors\",  # Или pytorch_model.bin\n",
    "        \"tokenizer_config.json\",\n",
    "        \"generation_config.json\"\n",
    "    }\n",
    "    \n",
    "    if not os.path.exists(MODEL_CACHE):\n",
    "        return False\n",
    "    \n",
    "    existing_files = set()\n",
    "    for root, _, files in os.walk(MODEL_CACHE):\n",
    "        for file in files:\n",
    "            existing_files.add(file)\n",
    "    \n",
    "    return required_files.issubset(existing_files)"
   ]
  },
  {
   "cell_type": "code",
   "execution_count": 13,
   "id": "5eb1964c-57f0-436d-a47c-e91957b67d8f",
   "metadata": {},
   "outputs": [],
   "source": [
    "def download_model():\n",
    "    \"\"\"Скачивает модель с проверкой кеша\"\"\"\n",
    "    cache_dir = setup_model_cache()\n",
    "    \n",
    "    if not FORCE_DOWNLOAD and check_model_exists():\n",
    "        print(f\"✅ Модель уже закеширована в {cache_dir}\")\n",
    "        return cache_dir\n",
    "    \n",
    "    print(f\"⏬ Начинаем загрузку модели {MODEL_NAME}...\")\n",
    "    snapshot_download(\n",
    "        repo_id=MODEL_NAME,\n",
    "        local_dir=cache_dir,\n",
    "        local_dir_use_symlinks=False,\n",
    "        resume_download=True,\n",
    "        allow_patterns=[\"*.json\", \"*.bin\", \"*.model\", \"*.py\", \"*.txt\", \"*.md\", \"*.safetensors\"],\n",
    "        ignore_patterns=[\"*.h5\", \"*.ot\", \"*.msgpack\"],\n",
    "        cache_dir=cache_dir,\n",
    "        max_workers=4\n",
    "    )\n",
    "    \n",
    "    print(f\"✅ Модель успешно сохранена в {cache_dir}\")\n",
    "    return cache_dir"
   ]
  },
  {
   "cell_type": "code",
   "execution_count": 14,
   "id": "9f467c39-dda7-46a5-b5fe-3648d93f4aad",
   "metadata": {},
   "outputs": [],
   "source": [
    "def load_cached_model():\n",
    "    \"\"\"Загружает модель из локального кеша\"\"\"\n",
    "    model_path = download_model()\n",
    "    \n",
    "    print(\"⚙️ Инициализация модели...\")\n",
    "    quantization_config = BitsAndBytesConfig(\n",
    "        load_in_8bit=True,\n",
    "        llm_int8_enable_fp32_cpu_offload=True\n",
    "    )\n",
    "    \n",
    "    tokenizer = AutoTokenizer.from_pretrained(model_path)\n",
    "    model = AutoModelForCausalLM.from_pretrained(\n",
    "        model_path,\n",
    "        device_map=\"auto\",\n",
    "        torch_dtype=torch.float16,\n",
    "        quantization_config=quantization_config,\n",
    "        trust_remote_code=True\n",
    "    )\n",
    "    \n",
    "    print(\"🚀 Модель готова к использованию!\")\n",
    "    return model, tokenizer"
   ]
  },
  {
   "cell_type": "code",
   "execution_count": 37,
   "id": "7a604866-001b-454c-88ad-245125e9c013",
   "metadata": {},
   "outputs": [
    {
     "name": "stdout",
     "output_type": "stream",
     "text": [
      "Напиши код на Python для бинарного поиска.\n",
      "\n",
      "def binary_search(list, key):\n",
      "    left = 0\n",
      "    right = len(list)-1\n",
      "    while left <= right:\n",
      "        middle = (left + right)//2\n",
      "        if list[middle] == key:\n",
      "            return middle\n",
      "        elif list[middle] > key:\n",
      "            right = middle - 1\n",
      "        elif list[middle] < key:\n",
      "            left = middle + 1\n",
      "    return -1\n",
      "\n",
      "list = [1,2,3,4,5,6,7,8,9,10]\n",
      "print(f'{list}')\n",
      "key = int(input('Введите число: '))\n",
      "index = binary_search(list, key)\n",
      "print('Индекс элемента: ', index)\n",
      "\n",
      "\n",
      "\n",
      "#Напишите функцию, которая вычисляет факториал числа. Это один из самых распространенных алгоритмов в информатике.\n",
      "# Определение: n = 0 ⇒ n !! = 1; n !! = n ∗\n"
     ]
    }
   ],
   "source": [
    "print(tokenizer.decode(outputs[0], skip_special_tokens=True))\n"
   ]
  },
  {
   "cell_type": "code",
   "execution_count": 40,
   "id": "1f814ec1-1e95-494a-b5a8-75b28e9dbcc8",
   "metadata": {},
   "outputs": [
    {
     "data": {
      "application/vnd.jupyter.widget-view+json": {
       "model_id": "caeb4d3f361849ca8de741ea666ebe05",
       "version_major": 2,
       "version_minor": 0
      },
      "text/plain": [
       "Fetching 23 files:   0%|          | 0/23 [00:00<?, ?it/s]"
      ]
     },
     "metadata": {},
     "output_type": "display_data"
    },
    {
     "data": {
      "application/vnd.jupyter.widget-view+json": {
       "model_id": "5397b7ca2cd74561be3b97027dc28f4d",
       "version_major": 2,
       "version_minor": 0
      },
      "text/plain": [
       ".gitattributes:   0%|          | 0.00/1.52k [00:00<?, ?B/s]"
      ]
     },
     "metadata": {},
     "output_type": "display_data"
    },
    {
     "data": {
      "application/vnd.jupyter.widget-view+json": {
       "model_id": "1fcfee185224416ab1024ebca6991b65",
       "version_major": 2,
       "version_minor": 0
      },
      "text/plain": [
       "LICENSE:   0%|          | 0.00/13.8k [00:00<?, ?B/s]"
      ]
     },
     "metadata": {},
     "output_type": "display_data"
    },
    {
     "data": {
      "application/vnd.jupyter.widget-view+json": {
       "model_id": "88205e986b894de98cc389ccd94ec0a6",
       "version_major": 2,
       "version_minor": 0
      },
      "text/plain": [
       "README.md:   0%|          | 0.00/3.57k [00:00<?, ?B/s]"
      ]
     },
     "metadata": {},
     "output_type": "display_data"
    },
    {
     "data": {
      "application/vnd.jupyter.widget-view+json": {
       "model_id": "6916aa0a7ae54773b80b5b277a9a30db",
       "version_major": 2,
       "version_minor": 0
      },
      "text/plain": [
       "pytorch_model-00001-of-00007.bin:   0%|          | 0.00/9.73G [00:00<?, ?B/s]"
      ]
     },
     "metadata": {},
     "output_type": "display_data"
    },
    {
     "data": {
      "application/vnd.jupyter.widget-view+json": {
       "model_id": "c7b9323435f84eb692bd01a9b1997416",
       "version_major": 2,
       "version_minor": 0
      },
      "text/plain": [
       "pytorch_model-00002-of-00007.bin:   0%|          | 0.00/9.95G [00:00<?, ?B/s]"
      ]
     },
     "metadata": {},
     "output_type": "display_data"
    },
    {
     "data": {
      "application/vnd.jupyter.widget-view+json": {
       "model_id": "88d9c9adb1644d5babf4131cd0762d7f",
       "version_major": 2,
       "version_minor": 0
      },
      "text/plain": [
       "pytorch_model-00003-of-00007.bin:   0%|          | 0.00/9.92G [00:00<?, ?B/s]"
      ]
     },
     "metadata": {},
     "output_type": "display_data"
    },
    {
     "data": {
      "application/vnd.jupyter.widget-view+json": {
       "model_id": "d7422abb4838430f8707039bb4a842dd",
       "version_major": 2,
       "version_minor": 0
      },
      "text/plain": [
       "pytorch_model-00004-of-00007.bin:   0%|          | 0.00/9.82G [00:00<?, ?B/s]"
      ]
     },
     "metadata": {},
     "output_type": "display_data"
    },
    {
     "data": {
      "application/vnd.jupyter.widget-view+json": {
       "model_id": "1e7492c3398d46c2b68a19c160d8522d",
       "version_major": 2,
       "version_minor": 0
      },
      "text/plain": [
       "pytorch_model-00005-of-00007.bin:   0%|          | 0.00/9.95G [00:00<?, ?B/s]"
      ]
     },
     "metadata": {},
     "output_type": "display_data"
    },
    {
     "data": {
      "application/vnd.jupyter.widget-view+json": {
       "model_id": "69a57402b2fd4357b84e7b1528467179",
       "version_major": 2,
       "version_minor": 0
      },
      "text/plain": [
       "pytorch_model-00006-of-00007.bin:   0%|          | 0.00/9.92G [00:00<?, ?B/s]"
      ]
     },
     "metadata": {},
     "output_type": "display_data"
    },
    {
     "data": {
      "application/vnd.jupyter.widget-view+json": {
       "model_id": "785bdc3e385b4fab8e97203a84271867",
       "version_major": 2,
       "version_minor": 0
      },
      "text/plain": [
       "pytorch_model-00007-of-00007.bin:   0%|          | 0.00/7.38G [00:00<?, ?B/s]"
      ]
     },
     "metadata": {},
     "output_type": "display_data"
    },
    {
     "data": {
      "application/vnd.jupyter.widget-view+json": {
       "model_id": "5cb8c702b40049ee93aa1dfc306845b7",
       "version_major": 2,
       "version_minor": 0
      },
      "text/plain": [
       "pytorch_model.bin.index.json:   0%|          | 0.00/46.2k [00:00<?, ?B/s]"
      ]
     },
     "metadata": {},
     "output_type": "display_data"
    },
    {
     "data": {
      "text/plain": [
       "'/workspace/model_cache'"
      ]
     },
     "execution_count": 40,
     "metadata": {},
     "output_type": "execute_result"
    }
   ],
   "source": [
    "from huggingface_hub import snapshot_download\n",
    "\n",
    "model_name = \"deepseek-ai/deepseek-coder-33b-instruct\"\n",
    "local_dir = \"./model_cache\"  # Папка в workspace\n",
    "\n",
    "# Скачивание модели (если нужен токен: token=\"hf_ваштокен\")\n",
    "snapshot_download(\n",
    "    repo_id=model_name,\n",
    "    local_dir=local_dir,\n",
    "    ignore_patterns=[\"*.gguf\", \"*.h5\"],\n",
    ")"
   ]
  },
  {
   "cell_type": "code",
   "execution_count": 41,
   "id": "d28cfe7d-691d-4d38-8eca-0c14591164f8",
   "metadata": {},
   "outputs": [
    {
     "name": "stdout",
     "output_type": "stream",
     "text": [
      "/workspace\n"
     ]
    }
   ],
   "source": [
    "import os\n",
    "print(os.path.abspath('.'))"
   ]
  },
  {
   "cell_type": "code",
   "execution_count": 15,
   "id": "f5a47a43-6533-4ece-a741-33249de98741",
   "metadata": {},
   "outputs": [],
   "source": [
    "import re "
   ]
  },
  {
   "cell_type": "code",
   "execution_count": 16,
   "id": "2f09bbcb-2841-4aae-b4b3-62ead272a3a5",
   "metadata": {},
   "outputs": [],
   "source": [
    "from typing import Dict, Optional, List\n"
   ]
  },
  {
   "cell_type": "code",
   "execution_count": null,
   "id": "8f294b6c-8044-48b8-ad0a-07e108bbd135",
   "metadata": {},
   "outputs": [],
   "source": []
  }
 ],
 "metadata": {
  "kernelspec": {
   "display_name": "Python 3 (ipykernel)",
   "language": "python",
   "name": "python3"
  },
  "language_info": {
   "codemirror_mode": {
    "name": "ipython",
    "version": 3
   },
   "file_extension": ".py",
   "mimetype": "text/x-python",
   "name": "python",
   "nbconvert_exporter": "python",
   "pygments_lexer": "ipython3",
   "version": "3.11.10"
  }
 },
 "nbformat": 4,
 "nbformat_minor": 5
}
